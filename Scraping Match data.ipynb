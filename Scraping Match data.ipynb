{
 "cells": [
  {
   "cell_type": "code",
   "execution_count": 2,
   "metadata": {},
   "outputs": [],
   "source": [
    "from bs4 import BeautifulSoup\n",
    "from selenium  import webdriver\n",
    "import time\n",
    "from selenium.common.exceptions import WebDriverException\n",
    "import pandas as pd\n",
    "import numpy as np"
   ]
  },
  {
   "cell_type": "code",
   "execution_count": 4,
   "metadata": {},
   "outputs": [],
   "source": [
    "driver = webdriver.Chrome(\"C:/driver/chromedriver.exe\")\n",
    "driver.get('https://www.prokabaddi.com/schedule-fixtures-results')\n",
    "time.sleep(6)"
   ]
  },
  {
   "cell_type": "code",
   "execution_count": 21,
   "metadata": {},
   "outputs": [],
   "source": [
    "from selenium.webdriver.support.ui import Select\n",
    "#element = driver.find_element_by_class_name('si-selectBox si-season-change')\n",
    "#Select a particular season - \n",
    "#element.select_by_value('Season 6')"
   ]
  },
  {
   "cell_type": "code",
   "execution_count": 161,
   "metadata": {},
   "outputs": [],
   "source": [
    "#Finding the damn dropdown as an element for changing seasons\n",
    "element_select=Select(driver.find_element_by_class_name('si-season-wrapper').find_element_by_class_name('si-selectWrap').find_element_by_xpath(\"//select[@class='si-selectBox si-season-change']\"))          "
   ]
  },
  {
   "cell_type": "code",
   "execution_count": 162,
   "metadata": {},
   "outputs": [
    {
     "data": {
      "text/plain": [
       "[<selenium.webdriver.remote.webelement.WebElement (session=\"ff16ce28fd90c741e8af4caf28084f32\", element=\"88912a0e-0de5-4079-8561-b60f5fc4df65\")>,\n",
       " <selenium.webdriver.remote.webelement.WebElement (session=\"ff16ce28fd90c741e8af4caf28084f32\", element=\"2a94cd48-4cd4-4fab-8342-1db346abcfa4\")>,\n",
       " <selenium.webdriver.remote.webelement.WebElement (session=\"ff16ce28fd90c741e8af4caf28084f32\", element=\"fad7077a-2889-47f4-a33f-08a583a1ef3d\")>,\n",
       " <selenium.webdriver.remote.webelement.WebElement (session=\"ff16ce28fd90c741e8af4caf28084f32\", element=\"a20e5d2b-958c-4087-a8ae-105df3f226f8\")>,\n",
       " <selenium.webdriver.remote.webelement.WebElement (session=\"ff16ce28fd90c741e8af4caf28084f32\", element=\"280a75dd-15e0-418c-bb29-b38017d913e1\")>,\n",
       " <selenium.webdriver.remote.webelement.WebElement (session=\"ff16ce28fd90c741e8af4caf28084f32\", element=\"03f05eb6-dd34-4a95-b448-0706e28a09ba\")>,\n",
       " <selenium.webdriver.remote.webelement.WebElement (session=\"ff16ce28fd90c741e8af4caf28084f32\", element=\"62acc293-7410-4dd0-992e-3e56814b32e6\")>]"
      ]
     },
     "execution_count": 162,
     "metadata": {},
     "output_type": "execute_result"
    }
   ],
   "source": [
    "element_select.options"
   ]
  },
  {
   "cell_type": "code",
   "execution_count": 34,
   "metadata": {},
   "outputs": [],
   "source": [
    "def get_text(x):\n",
    "        p1=[]\n",
    "        for i in range(0,len(x)):\n",
    "            p1.append(x[i].getText().replace('\\n',\"\").replace(\"  \",\"\"))\n",
    "        return(pd.Series(p1))"
   ]
  },
  {
   "cell_type": "code",
   "execution_count": 130,
   "metadata": {},
   "outputs": [],
   "source": [
    "driver = webdriver.Chrome(\"C:/driver/chromedriver.exe\")\n",
    "driver.get('https://www.prokabaddi.com/schedule-fixtures-results')\n",
    "time.sleep(6)\n",
    "from selenium.webdriver.support.ui import Select\n",
    "element_select=Select(driver.find_element_by_class_name('si-season-wrapper').find_element_by_class_name('si-selectWrap').find_element_by_xpath(\"//select[@class='si-selectBox si-season-change']\"))          "
   ]
  },
  {
   "cell_type": "code",
   "execution_count": 131,
   "metadata": {},
   "outputs": [],
   "source": [
    "l=['Season 1','Season 2','Season 3','Season 4','Season 5','Season 6']\n",
    "for i in l:\n",
    "    #Finding the damn dropdown as an element for changing seasons\n",
    "    #Changing Seasons\n",
    "    element_select.select_by_visible_text(i)\n",
    "    time.sleep(4)\n",
    "    soup = BeautifulSoup(driver.page_source)\n",
    "    match_date=soup.findAll('div',attrs={'class':'matDate'})\n",
    "    match_status=soup.findAll('div',attrs={'class':'matStatus'})\n",
    "    match_time=soup.findAll('div',attrs={'class':'matTime'})\n",
    "    team1=soup.findAll('div',attrs={'class':'si-fullName'})[0::2]\n",
    "    team2=soup.findAll('div',attrs={'class':'si-fullName'})[1::2]\n",
    "    final_scores=soup.findAll('div',attrs={'class':'matScore'})\n",
    "    match_venue=soup.findAll('div',attrs={'class':'mat-venue'})\n",
    "    \n",
    "    season_fixtures=pd.DataFrame({'match_date':get_text(match_date),'time':get_text(match_time),'match_status':get_text(match_status),'Team1':get_text(team1),'Team2':get_text(team2),'scores':get_text(final_scores),'venue':get_text(match_venue)})          \n",
    "    team1_score=season_fixtures.scores.str.split('-',expand=True)[0]\n",
    "    team2_score=season_fixtures.scores.str.split('-',expand=True)[1]\n",
    "    team2_score=team2_score.str.strip()\n",
    "    season_fixtures['team1_score']=team1_score\n",
    "    season_fixtures['team2_score']=team2_score\n",
    "    season_fixtures['Season']=i\n",
    "    import os\n",
    "    path=os.getcwd()\n",
    "    season_fixtures.to_csv(path+\"\\\\Pro Kabbadi Hackathon\\\\\"+i+\"_fixtures.csv\",index=False)\n",
    "    \n",
    "driver.Close()    "
   ]
  },
  {
   "cell_type": "code",
   "execution_count": 178,
   "metadata": {},
   "outputs": [
    {
     "data": {
      "text/html": [
       "<div>\n",
       "<style scoped>\n",
       "    .dataframe tbody tr th:only-of-type {\n",
       "        vertical-align: middle;\n",
       "    }\n",
       "\n",
       "    .dataframe tbody tr th {\n",
       "        vertical-align: top;\n",
       "    }\n",
       "\n",
       "    .dataframe thead th {\n",
       "        text-align: right;\n",
       "    }\n",
       "</style>\n",
       "<table border=\"1\" class=\"dataframe\">\n",
       "  <thead>\n",
       "    <tr style=\"text-align: right;\">\n",
       "      <th></th>\n",
       "      <th>match_date</th>\n",
       "      <th>time</th>\n",
       "      <th>match_status</th>\n",
       "      <th>Team1</th>\n",
       "      <th>Team2</th>\n",
       "      <th>scores</th>\n",
       "      <th>venue</th>\n",
       "      <th>team1_score</th>\n",
       "      <th>team2_score</th>\n",
       "    </tr>\n",
       "  </thead>\n",
       "  <tbody>\n",
       "    <tr>\n",
       "      <th>0</th>\n",
       "      <td>Sunday, 01 September</td>\n",
       "      <td>19:30 (IST)</td>\n",
       "      <td>Match 69 - Completed</td>\n",
       "      <td>U.P. Yoddha</td>\n",
       "      <td>Bengal Warriors</td>\n",
       "      <td>32- 29</td>\n",
       "      <td>Sree Kanteerava Stadium, Bengaluru</td>\n",
       "      <td>32</td>\n",
       "      <td>29</td>\n",
       "    </tr>\n",
       "    <tr>\n",
       "      <th>1</th>\n",
       "      <td>Sunday, 01 September</td>\n",
       "      <td>20:30 (IST)</td>\n",
       "      <td>Match 70 - Completed</td>\n",
       "      <td>Bengaluru Bulls</td>\n",
       "      <td>Tamil Thalaivas</td>\n",
       "      <td>33- 27</td>\n",
       "      <td>Sree Kanteerava Stadium, Bengaluru</td>\n",
       "      <td>33</td>\n",
       "      <td>27</td>\n",
       "    </tr>\n",
       "    <tr>\n",
       "      <th>2</th>\n",
       "      <td>Monday, 02 September</td>\n",
       "      <td>19:30 (IST)</td>\n",
       "      <td>Match 71 - Completed</td>\n",
       "      <td>Puneri Paltan</td>\n",
       "      <td>Haryana Steelers</td>\n",
       "      <td>27- 41</td>\n",
       "      <td>Sree Kanteerava Stadium, Bengaluru</td>\n",
       "      <td>27</td>\n",
       "      <td>41</td>\n",
       "    </tr>\n",
       "    <tr>\n",
       "      <th>3</th>\n",
       "      <td>Monday, 02 September</td>\n",
       "      <td>20:30 (IST)</td>\n",
       "      <td>Match 72 - Completed</td>\n",
       "      <td>Telugu Titans</td>\n",
       "      <td>Tamil Thalaivas</td>\n",
       "      <td>35- 30</td>\n",
       "      <td>Sree Kanteerava Stadium, Bengaluru</td>\n",
       "      <td>35</td>\n",
       "      <td>30</td>\n",
       "    </tr>\n",
       "    <tr>\n",
       "      <th>4</th>\n",
       "      <td>Wednesday, 04 September</td>\n",
       "      <td>19:30 (IST)</td>\n",
       "      <td>Match 73 - Completed</td>\n",
       "      <td>Jaipur Pink Panthers</td>\n",
       "      <td>Dabang Delhi K.C.</td>\n",
       "      <td>44- 46</td>\n",
       "      <td>Sree Kanteerava Stadium, Bengaluru</td>\n",
       "      <td>44</td>\n",
       "      <td>46</td>\n",
       "    </tr>\n",
       "  </tbody>\n",
       "</table>\n",
       "</div>"
      ],
      "text/plain": [
       "                match_date         time           match_status  \\\n",
       "0     Sunday, 01 September  19:30 (IST)  Match 69 - Completed    \n",
       "1     Sunday, 01 September  20:30 (IST)  Match 70 - Completed    \n",
       "2     Monday, 02 September  19:30 (IST)  Match 71 - Completed    \n",
       "3     Monday, 02 September  20:30 (IST)  Match 72 - Completed    \n",
       "4  Wednesday, 04 September  19:30 (IST)  Match 73 - Completed    \n",
       "\n",
       "                  Team1              Team2  scores  \\\n",
       "0           U.P. Yoddha    Bengal Warriors  32- 29   \n",
       "1       Bengaluru Bulls    Tamil Thalaivas  33- 27   \n",
       "2         Puneri Paltan   Haryana Steelers  27- 41   \n",
       "3         Telugu Titans    Tamil Thalaivas  35- 30   \n",
       "4  Jaipur Pink Panthers  Dabang Delhi K.C.  44- 46   \n",
       "\n",
       "                                venue team1_score team2_score  \n",
       "0  Sree Kanteerava Stadium, Bengaluru          32          29  \n",
       "1  Sree Kanteerava Stadium, Bengaluru          33          27  \n",
       "2  Sree Kanteerava Stadium, Bengaluru          27          41  \n",
       "3  Sree Kanteerava Stadium, Bengaluru          35          30  \n",
       "4  Sree Kanteerava Stadium, Bengaluru          44          46  "
      ]
     },
     "execution_count": 178,
     "metadata": {},
     "output_type": "execute_result"
    }
   ],
   "source": [
    "season_fixtures.head()"
   ]
  },
  {
   "cell_type": "markdown",
   "metadata": {},
   "source": [
    "# Scraping season standings - \n"
   ]
  },
  {
   "cell_type": "code",
   "execution_count": 59,
   "metadata": {},
   "outputs": [],
   "source": [
    "driver = webdriver.Chrome(\"C:/driver/chromedriver.exe\")\n",
    "driver.get('https://www.prokabaddi.com/standings')\n",
    "time.sleep(6)\n",
    "from selenium.webdriver.support.ui import Select"
   ]
  },
  {
   "cell_type": "code",
   "execution_count": 104,
   "metadata": {
    "collapsed": true
   },
   "outputs": [
    {
     "ename": "ElementClickInterceptedException",
     "evalue": "Message: element click intercepted: Element <span class=\"si-option si-season-options \" data-name=\"...\" data-id=\"49\">season 7</span> is not clickable at point (231, 209). Other element would receive the click: <div class=\"sipk-zone-title\">...</div>\n  (Session info: chrome=76.0.3809.132)\n",
     "output_type": "error",
     "traceback": [
      "\u001b[1;31m---------------------------------------------------------------------------\u001b[0m",
      "\u001b[1;31mElementClickInterceptedException\u001b[0m          Traceback (most recent call last)",
      "\u001b[1;32m<ipython-input-104-23af58ef997e>\u001b[0m in \u001b[0;36m<module>\u001b[1;34m\u001b[0m\n\u001b[0;32m      5\u001b[0m     \u001b[0mdriver\u001b[0m\u001b[1;33m.\u001b[0m\u001b[0mfind_element_by_class_name\u001b[0m\u001b[1;33m(\u001b[0m\u001b[1;34m'si-dropdown'\u001b[0m\u001b[1;33m)\u001b[0m\u001b[1;33m.\u001b[0m\u001b[0mclick\u001b[0m\u001b[1;33m(\u001b[0m\u001b[1;33m)\u001b[0m\u001b[1;33m\u001b[0m\u001b[1;33m\u001b[0m\u001b[0m\n\u001b[0;32m      6\u001b[0m     \u001b[1;31m#Selecting the season from the dropdown\u001b[0m\u001b[1;33m\u001b[0m\u001b[1;33m\u001b[0m\u001b[1;33m\u001b[0m\u001b[0m\n\u001b[1;32m----> 7\u001b[1;33m     \u001b[0mdriver\u001b[0m\u001b[1;33m.\u001b[0m\u001b[0mfind_element_by_id\u001b[0m\u001b[1;33m(\u001b[0m\u001b[1;34m'season_selectBox'\u001b[0m\u001b[1;33m)\u001b[0m\u001b[1;33m.\u001b[0m\u001b[0mfind_element_by_xpath\u001b[0m\u001b[1;33m(\u001b[0m\u001b[1;34m\"//span[@data-name='%s']\"\u001b[0m\u001b[1;33m%\u001b[0m\u001b[0mi\u001b[0m\u001b[1;33m)\u001b[0m\u001b[1;33m.\u001b[0m\u001b[0mclick\u001b[0m\u001b[1;33m(\u001b[0m\u001b[1;33m)\u001b[0m\u001b[1;33m\u001b[0m\u001b[1;33m\u001b[0m\u001b[0m\n\u001b[0m\u001b[0;32m      8\u001b[0m     \u001b[0mtime\u001b[0m\u001b[1;33m.\u001b[0m\u001b[0msleep\u001b[0m\u001b[1;33m(\u001b[0m\u001b[1;36m4\u001b[0m\u001b[1;33m)\u001b[0m\u001b[1;33m\u001b[0m\u001b[1;33m\u001b[0m\u001b[0m\n\u001b[0;32m      9\u001b[0m     \u001b[0msoup\u001b[0m \u001b[1;33m=\u001b[0m \u001b[0mBeautifulSoup\u001b[0m\u001b[1;33m(\u001b[0m\u001b[0mdriver\u001b[0m\u001b[1;33m.\u001b[0m\u001b[0mpage_source\u001b[0m\u001b[1;33m)\u001b[0m\u001b[1;33m\u001b[0m\u001b[1;33m\u001b[0m\u001b[0m\n",
      "\u001b[1;32mD:\\Anaconda3\\lib\\site-packages\\selenium\\webdriver\\remote\\webelement.py\u001b[0m in \u001b[0;36mclick\u001b[1;34m(self)\u001b[0m\n\u001b[0;32m     78\u001b[0m     \u001b[1;32mdef\u001b[0m \u001b[0mclick\u001b[0m\u001b[1;33m(\u001b[0m\u001b[0mself\u001b[0m\u001b[1;33m)\u001b[0m\u001b[1;33m:\u001b[0m\u001b[1;33m\u001b[0m\u001b[1;33m\u001b[0m\u001b[0m\n\u001b[0;32m     79\u001b[0m         \u001b[1;34m\"\"\"Clicks the element.\"\"\"\u001b[0m\u001b[1;33m\u001b[0m\u001b[1;33m\u001b[0m\u001b[0m\n\u001b[1;32m---> 80\u001b[1;33m         \u001b[0mself\u001b[0m\u001b[1;33m.\u001b[0m\u001b[0m_execute\u001b[0m\u001b[1;33m(\u001b[0m\u001b[0mCommand\u001b[0m\u001b[1;33m.\u001b[0m\u001b[0mCLICK_ELEMENT\u001b[0m\u001b[1;33m)\u001b[0m\u001b[1;33m\u001b[0m\u001b[1;33m\u001b[0m\u001b[0m\n\u001b[0m\u001b[0;32m     81\u001b[0m \u001b[1;33m\u001b[0m\u001b[0m\n\u001b[0;32m     82\u001b[0m     \u001b[1;32mdef\u001b[0m \u001b[0msubmit\u001b[0m\u001b[1;33m(\u001b[0m\u001b[0mself\u001b[0m\u001b[1;33m)\u001b[0m\u001b[1;33m:\u001b[0m\u001b[1;33m\u001b[0m\u001b[1;33m\u001b[0m\u001b[0m\n",
      "\u001b[1;32mD:\\Anaconda3\\lib\\site-packages\\selenium\\webdriver\\remote\\webelement.py\u001b[0m in \u001b[0;36m_execute\u001b[1;34m(self, command, params)\u001b[0m\n\u001b[0;32m    631\u001b[0m             \u001b[0mparams\u001b[0m \u001b[1;33m=\u001b[0m \u001b[1;33m{\u001b[0m\u001b[1;33m}\u001b[0m\u001b[1;33m\u001b[0m\u001b[1;33m\u001b[0m\u001b[0m\n\u001b[0;32m    632\u001b[0m         \u001b[0mparams\u001b[0m\u001b[1;33m[\u001b[0m\u001b[1;34m'id'\u001b[0m\u001b[1;33m]\u001b[0m \u001b[1;33m=\u001b[0m \u001b[0mself\u001b[0m\u001b[1;33m.\u001b[0m\u001b[0m_id\u001b[0m\u001b[1;33m\u001b[0m\u001b[1;33m\u001b[0m\u001b[0m\n\u001b[1;32m--> 633\u001b[1;33m         \u001b[1;32mreturn\u001b[0m \u001b[0mself\u001b[0m\u001b[1;33m.\u001b[0m\u001b[0m_parent\u001b[0m\u001b[1;33m.\u001b[0m\u001b[0mexecute\u001b[0m\u001b[1;33m(\u001b[0m\u001b[0mcommand\u001b[0m\u001b[1;33m,\u001b[0m \u001b[0mparams\u001b[0m\u001b[1;33m)\u001b[0m\u001b[1;33m\u001b[0m\u001b[1;33m\u001b[0m\u001b[0m\n\u001b[0m\u001b[0;32m    634\u001b[0m \u001b[1;33m\u001b[0m\u001b[0m\n\u001b[0;32m    635\u001b[0m     \u001b[1;32mdef\u001b[0m \u001b[0mfind_element\u001b[0m\u001b[1;33m(\u001b[0m\u001b[0mself\u001b[0m\u001b[1;33m,\u001b[0m \u001b[0mby\u001b[0m\u001b[1;33m=\u001b[0m\u001b[0mBy\u001b[0m\u001b[1;33m.\u001b[0m\u001b[0mID\u001b[0m\u001b[1;33m,\u001b[0m \u001b[0mvalue\u001b[0m\u001b[1;33m=\u001b[0m\u001b[1;32mNone\u001b[0m\u001b[1;33m)\u001b[0m\u001b[1;33m:\u001b[0m\u001b[1;33m\u001b[0m\u001b[1;33m\u001b[0m\u001b[0m\n",
      "\u001b[1;32mD:\\Anaconda3\\lib\\site-packages\\selenium\\webdriver\\remote\\webdriver.py\u001b[0m in \u001b[0;36mexecute\u001b[1;34m(self, driver_command, params)\u001b[0m\n\u001b[0;32m    319\u001b[0m         \u001b[0mresponse\u001b[0m \u001b[1;33m=\u001b[0m \u001b[0mself\u001b[0m\u001b[1;33m.\u001b[0m\u001b[0mcommand_executor\u001b[0m\u001b[1;33m.\u001b[0m\u001b[0mexecute\u001b[0m\u001b[1;33m(\u001b[0m\u001b[0mdriver_command\u001b[0m\u001b[1;33m,\u001b[0m \u001b[0mparams\u001b[0m\u001b[1;33m)\u001b[0m\u001b[1;33m\u001b[0m\u001b[1;33m\u001b[0m\u001b[0m\n\u001b[0;32m    320\u001b[0m         \u001b[1;32mif\u001b[0m \u001b[0mresponse\u001b[0m\u001b[1;33m:\u001b[0m\u001b[1;33m\u001b[0m\u001b[1;33m\u001b[0m\u001b[0m\n\u001b[1;32m--> 321\u001b[1;33m             \u001b[0mself\u001b[0m\u001b[1;33m.\u001b[0m\u001b[0merror_handler\u001b[0m\u001b[1;33m.\u001b[0m\u001b[0mcheck_response\u001b[0m\u001b[1;33m(\u001b[0m\u001b[0mresponse\u001b[0m\u001b[1;33m)\u001b[0m\u001b[1;33m\u001b[0m\u001b[1;33m\u001b[0m\u001b[0m\n\u001b[0m\u001b[0;32m    322\u001b[0m             response['value'] = self._unwrap_value(\n\u001b[0;32m    323\u001b[0m                 response.get('value', None))\n",
      "\u001b[1;32mD:\\Anaconda3\\lib\\site-packages\\selenium\\webdriver\\remote\\errorhandler.py\u001b[0m in \u001b[0;36mcheck_response\u001b[1;34m(self, response)\u001b[0m\n\u001b[0;32m    240\u001b[0m                 \u001b[0malert_text\u001b[0m \u001b[1;33m=\u001b[0m \u001b[0mvalue\u001b[0m\u001b[1;33m[\u001b[0m\u001b[1;34m'alert'\u001b[0m\u001b[1;33m]\u001b[0m\u001b[1;33m.\u001b[0m\u001b[0mget\u001b[0m\u001b[1;33m(\u001b[0m\u001b[1;34m'text'\u001b[0m\u001b[1;33m)\u001b[0m\u001b[1;33m\u001b[0m\u001b[1;33m\u001b[0m\u001b[0m\n\u001b[0;32m    241\u001b[0m             \u001b[1;32mraise\u001b[0m \u001b[0mexception_class\u001b[0m\u001b[1;33m(\u001b[0m\u001b[0mmessage\u001b[0m\u001b[1;33m,\u001b[0m \u001b[0mscreen\u001b[0m\u001b[1;33m,\u001b[0m \u001b[0mstacktrace\u001b[0m\u001b[1;33m,\u001b[0m \u001b[0malert_text\u001b[0m\u001b[1;33m)\u001b[0m\u001b[1;33m\u001b[0m\u001b[1;33m\u001b[0m\u001b[0m\n\u001b[1;32m--> 242\u001b[1;33m         \u001b[1;32mraise\u001b[0m \u001b[0mexception_class\u001b[0m\u001b[1;33m(\u001b[0m\u001b[0mmessage\u001b[0m\u001b[1;33m,\u001b[0m \u001b[0mscreen\u001b[0m\u001b[1;33m,\u001b[0m \u001b[0mstacktrace\u001b[0m\u001b[1;33m)\u001b[0m\u001b[1;33m\u001b[0m\u001b[1;33m\u001b[0m\u001b[0m\n\u001b[0m\u001b[0;32m    243\u001b[0m \u001b[1;33m\u001b[0m\u001b[0m\n\u001b[0;32m    244\u001b[0m     \u001b[1;32mdef\u001b[0m \u001b[0m_value_or_default\u001b[0m\u001b[1;33m(\u001b[0m\u001b[0mself\u001b[0m\u001b[1;33m,\u001b[0m \u001b[0mobj\u001b[0m\u001b[1;33m,\u001b[0m \u001b[0mkey\u001b[0m\u001b[1;33m,\u001b[0m \u001b[0mdefault\u001b[0m\u001b[1;33m)\u001b[0m\u001b[1;33m:\u001b[0m\u001b[1;33m\u001b[0m\u001b[1;33m\u001b[0m\u001b[0m\n",
      "\u001b[1;31mElementClickInterceptedException\u001b[0m: Message: element click intercepted: Element <span class=\"si-option si-season-options \" data-name=\"...\" data-id=\"49\">season 7</span> is not clickable at point (231, 209). Other element would receive the click: <div class=\"sipk-zone-title\">...</div>\n  (Session info: chrome=76.0.3809.132)\n"
     ]
    }
   ],
   "source": [
    "l=['season 1','season 2','season 3','season 4','season 5','season 6']\n",
    "for i in l:\n",
    "    time.sleep(4)\n",
    "    #Clicking the dropdown\n",
    "    driver.find_element_by_class_name('si-dropdown').click() \n",
    "    #Selecting the season from the dropdown\n",
    "    driver.find_element_by_id('season_selectBox').find_element_by_xpath(\"//span[@data-name='%s']\"%i).click()\n",
    "    time.sleep(4)\n",
    "    soup = BeautifulSoup(driver.page_source)\n",
    "    rank=soup.findAll('div',attrs={'class':'sipk-table-col sipk-rank'})\n",
    "    team=soup.findAll('div',attrs={'class':'sipk-table-col sipk-team'})\n",
    "    played=soup.findAll('div',attrs={'class':'sipk-table-col sipk-play'})\n",
    "    won=soup.findAll('div',attrs={'class':'sipk-table-col sipk-won'})\n",
    "    lost=soup.findAll('div',attrs={'class':'sipk-table-col sipk-lost'})\n",
    "    drawn=soup.findAll('div',attrs={'class':'sipk-table-col sipk-drow'})\n",
    "    score_diff=soup.findAll('div',attrs={'class':'sipk-table-col sipk-scoreDiff'})\n",
    "    points=soup.findAll('div',attrs={'class':'sipk-table-col sipk-points'})    \n",
    "    season_standings=pd.DataFrame({'Rank':get_text(rank),'Team':get_text(team),'Played':get_text(played),'Won':get_text(won),'Lost':get_text(lost),'Drawn':get_text(drawn),'Score_diff':get_text(score_diff),'Points':get_text(points)})          \n",
    "    season_standings=season_standings.drop(0,axis='rows')   \n",
    "    import os\n",
    "    path=os.getcwd()\n",
    "    season_standings.to_csv(path+\"\\\\Pro Kabbadi Hackathon\\\\\"+i+\"_standings.csv\",index=False)\n",
    "driver.Close()        "
   ]
  },
  {
   "cell_type": "markdown",
   "metadata": {},
   "source": [
    "We require to rewrite the code for Season 7 with one small added difference."
   ]
  },
  {
   "cell_type": "markdown",
   "metadata": {},
   "source": [
    "# For Season 7"
   ]
  },
  {
   "cell_type": "code",
   "execution_count": 107,
   "metadata": {},
   "outputs": [],
   "source": [
    "driver = webdriver.Chrome(\"C:/driver/chromedriver.exe\")\n",
    "driver.get('https://www.prokabaddi.com/standings')\n",
    "time.sleep(6)\n",
    "#Clicking the dropdown\n",
    "driver.find_element_by_class_name('si-dropdown').click() \n",
    "#Selecting the season from the dropdown\n",
    "driver.find_element_by_id('season_selectBox').find_element_by_xpath(\"//span[@data-name='season 7']\").click()\n",
    "time.sleep(4)\n",
    "soup = BeautifulSoup(driver.page_source)\n",
    "rank=soup.findAll('div',attrs={'class':'sipk-table-col sipk-rank'})\n",
    "team=soup.findAll('div',attrs={'class':'sipk-table-col sipk-team'})\n",
    "played=soup.findAll('div',attrs={'class':'sipk-table-col sipk-play'})\n",
    "won=soup.findAll('div',attrs={'class':'sipk-table-col sipk-won'})\n",
    "lost=soup.findAll('div',attrs={'class':'sipk-table-col sipk-lost'})\n",
    "drawn=soup.findAll('div',attrs={'class':'sipk-table-col sipk-drow'})\n",
    "score_diff=soup.findAll('div',attrs={'class':'sipk-table-col sipk-scoreDiff'})\n",
    "points=soup.findAll('div',attrs={'class':'sipk-table-col sipk-points'})    \n",
    "season_standings=pd.DataFrame({'Rank':get_text(rank),'Team':get_text(team),'Played':get_text(played),'Won':get_text(won),'Lost':get_text(lost),'Drawn':get_text(drawn),'Score_diff':get_text(score_diff),'Points':get_text(points)})          \n",
    "season_standings=season_standings.drop(0,axis='rows')   \n",
    "path=os.getcwd()\n",
    "season_standings.to_csv(path+\"\\\\Pro Kabbadi Hackathon\\\\\"+\"season 7\"+\"_standings.csv\",index=False)\n",
    "driver.Close()"
   ]
  },
  {
   "cell_type": "markdown",
   "metadata": {},
   "source": [
    "#### Data for Season 7 \n",
    "Need to svrape this separately since each month has been kept as separate."
   ]
  },
  {
   "cell_type": "code",
   "execution_count": 129,
   "metadata": {},
   "outputs": [],
   "source": [
    "driver = webdriver.Chrome(\"C:/driver/chromedriver.exe\")\n",
    "driver.get('https://www.prokabaddi.com/schedule-fixtures-results')\n",
    "time.sleep(6)\n",
    "a=Select(driver.find_element_by_class_name('si-month-wrapper').find_element_by_class_name('si-selectWrap').find_element_by_xpath(\"//select[@class='si-selectBox si-months-change']\"))\n",
    "l=['July','August','September','October']\n",
    "element_select=Select(driver.find_element_by_class_name('si-season-wrapper').find_element_by_class_name('si-selectWrap').find_element_by_xpath(\"//select[@class='si-selectBox si-season-change']\"))          \n",
    "element_select.select_by_visible_text('Season 7')\n",
    "for i in l:\n",
    "    #Changing Months\n",
    "    a.select_by_visible_text(i)\n",
    "    time.sleep(4)\n",
    "    soup = BeautifulSoup(driver.page_source)\n",
    "    match_date=soup.findAll('div',attrs={'class':'matDate'})\n",
    "    match_status=soup.findAll('div',attrs={'class':'matStatus'})\n",
    "    match_time=soup.findAll('div',attrs={'class':'matTime'})\n",
    "    team1=soup.findAll('div',attrs={'class':'si-fullName'})[0::2]\n",
    "    team2=soup.findAll('div',attrs={'class':'si-fullName'})[1::2]\n",
    "    final_scores=soup.findAll('div',attrs={'class':'matScore'})\n",
    "    match_venue=soup.findAll('div',attrs={'class':'mat-venue'})\n",
    "    \n",
    "    season_fixtures=pd.DataFrame({'match_date':get_text(match_date),'time':get_text(match_time),'match_status':get_text(match_status),'Team1':get_text(team1),'Team2':get_text(team2),'scores':get_text(final_scores),'venue':get_text(match_venue)})          \n",
    "    team1_score=season_fixtures.scores.str.split('-',expand=True)[0]\n",
    "    team2_score=season_fixtures.scores.str.split('-',expand=True)[1]\n",
    "    team2_score=team2_score.str.strip()\n",
    "    season_fixtures['team1_score']=team1_score\n",
    "    season_fixtures['team2_score']=team2_score\n",
    "    season_fixtures['Season']=i\n",
    "    import os\n",
    "    path=os.getcwd()\n",
    "    season_fixtures.to_csv(path+\"\\\\Pro Kabbadi Hackathon\\\\\"+i+\"S7_fixtures.csv\",index=False)\n",
    "driver.Close()    "
   ]
  },
  {
   "cell_type": "markdown",
   "metadata": {},
   "source": [
    "# Scraping Team Data"
   ]
  },
  {
   "cell_type": "code",
   "execution_count": 24,
   "metadata": {},
   "outputs": [],
   "source": [
    "data_tags=['teams/bengal-warriors-profile-4','teams/bengaluru-bulls-profile-1','teams/dabang-delhi-kc-profile-2',\n",
    "          'teams/gujarat-fortunegiants-profile-31','teams/haryana-steelers-profile-28','teams/jaipur-pink-panthers-profile-3',\n",
    "          'teams/patna-pirates-profile-6','teams/puneri-paltan-profile-7','teams/tamil-thalaivas-profile-29',\n",
    "          'teams/telugu-titans-profile-8','teams/u-mumba-profile-5','teams/up-yoddha-profile-30']"
   ]
  },
  {
   "cell_type": "code",
   "execution_count": 25,
   "metadata": {},
   "outputs": [],
   "source": [
    "driver = webdriver.Chrome(\"C:/driver/chromedriver.exe\")\n",
    "driver.get('https://www.prokabaddi.com')\n",
    "time.sleep(6)\n"
   ]
  },
  {
   "cell_type": "code",
   "execution_count": 26,
   "metadata": {},
   "outputs": [],
   "source": [
    "#Clicking the Team tab\n",
    "team_tab=driver.find_element_by_class_name('main-nav').find_element_by_xpath('//li[@data-id=\"teams\"]')\n",
    "team_tab.click()"
   ]
  },
  {
   "cell_type": "code",
   "execution_count": 27,
   "metadata": {},
   "outputs": [],
   "source": [
    "sub_menu=team_tab.find_element_by_class_name(\"submenu-item\")\n",
    "sub_menu.find_element_by_xpath('//a[@data-id=\"teams/bengal-warriors-profile-4\"]').click()"
   ]
  },
  {
   "cell_type": "code",
   "execution_count": null,
   "metadata": {},
   "outputs": [],
   "source": [
    "#driver.find_element_by_id('season_selectBox').find_element_by_xpath(\"//span[@data-name='season 7']\").click()\n"
   ]
  },
  {
   "cell_type": "code",
   "execution_count": 30,
   "metadata": {},
   "outputs": [
    {
     "data": {
      "text/plain": [
       "<selenium.webdriver.remote.webelement.WebElement (session=\"bfd61d37a6cc60de576f166dc265b76e\", element=\"121a9fb3-7f5b-487a-ace2-1adbd95a69a7\")>"
      ]
     },
     "execution_count": 30,
     "metadata": {},
     "output_type": "execute_result"
    }
   ],
   "source": [
    "driver.find_element_by_class_name('si-tbl-wraper')"
   ]
  },
  {
   "cell_type": "code",
   "execution_count": 31,
   "metadata": {},
   "outputs": [],
   "source": [
    "soup = BeautifulSoup(driver.page_source)\n"
   ]
  },
  {
   "cell_type": "code",
   "execution_count": 58,
   "metadata": {},
   "outputs": [],
   "source": [
    "def get_text2(x):\n",
    "        p1=[]\n",
    "        for i in range(0,len(x)):\n",
    "            p1.append(x[i].getText().replace('\\n',\" \").replace(\"  \",\"\")+\" \")\n",
    "        return(pd.Series(p1))"
   ]
  },
  {
   "cell_type": "code",
   "execution_count": 59,
   "metadata": {},
   "outputs": [
    {
     "data": {
      "text/plain": [
       "0                                             seasons  \n",
       "1      Matches Played wins draws losses Finishing Po...\n",
       "2      Total Raids Successful Raids unsuccessful rai...\n",
       "3      total tackles successful tackles unsuccesful ...\n",
       "4                                             Overall  \n",
       "5                                            Season 7  \n",
       "6                                            Season 6  \n",
       "7                                            Season 5  \n",
       "8                                            Season 4  \n",
       "9                                            Season 3  \n",
       "10                                           Season 2  \n",
       "11                                           Season 1  \n",
       "12                    124 55 15 54 - 48 vs 31 17vs 48  \n",
       "13                       19 12 3 4 1 48 vs 31 17vs 48  \n",
       "14                       23 12 2 9 2 44 vs 16 39vs 23  \n",
       "15                       24 11 6 7 1 44 vs 20 40vs 20  \n",
       "16                         14 3 2 9 8 34 vs 8 31vs 23  \n",
       "17                        16 9 0 7 4 37 vs 17 34vs 17  \n",
       "18                         14 4 1 9 6 39 vs 3 17vs 20  \n",
       "19                         14 4 1 9 7 42 vs 5 40vs 35  \n",
       "20            5269 1764 1143 2362 42% 701725 483 2208  \n",
       "21                   782 318 153 311 51% 15322 76 398  \n",
       "22                   963 340 201 422 45% 16341 95 436  \n",
       "23                 1079 379 223 477 42% 11333 122 455  \n",
       "24                    602 167 125 310 34% 4154 48 202  \n",
       "25                    702 213 144 345 36% 4204 46 250  \n",
       "26                    595 134 151 310 31% 9151 33 184  \n",
       "27                   546 213 146 187 52% 11220 63 283  \n",
       "28                      2812 1017 179539%981302601110  \n",
       "29                            449 174 27541%123162184  \n",
       "30                            508 186 32239%162346200  \n",
       "31                            521 181 34037%122754193  \n",
       "32                             318 117 20139%81122125  \n",
       "33                            329 137 19246%131734150  \n",
       "34                            306 116 19044%211020136  \n",
       "35                            381 106 27532%161122122  \n",
       "dtype: object"
      ]
     },
     "execution_count": 59,
     "metadata": {},
     "output_type": "execute_result"
    }
   ],
   "source": [
    "get_text2(soup.find_all('div',attrs={'class':\"si-tbl-data\"}))"
   ]
  },
  {
   "cell_type": "code",
   "execution_count": 35,
   "metadata": {},
   "outputs": [
    {
     "data": {
      "text/plain": [
       "0                                               seasons\n",
       "1     Matches PlayedwinsdrawslossesFinishing Positio...\n",
       "2     Total RaidsSuccessful Raidsunsuccessful raidem...\n",
       "3     total tacklessuccessful tacklesunsuccesful tac...\n",
       "4                                               Overall\n",
       "5                                              Season 7\n",
       "6                                              Season 6\n",
       "7                                              Season 5\n",
       "8                                              Season 4\n",
       "9                                              Season 3\n",
       "10                                             Season 2\n",
       "11                                             Season 1\n",
       "12                               124551554-48vs3117vs48\n",
       "13                                  191234148vs3117vs48\n",
       "14                                  231229244vs1639vs23\n",
       "15                                  241167144vs2040vs20\n",
       "16                                    14329834vs831vs23\n",
       "17                                   16907437vs1734vs17\n",
       "18                                    14419639vs317vs20\n",
       "19                                    14419742vs540vs35\n",
       "20                    526917641143236242%70 17254832208\n",
       "21                           78231815331151%15 32276398\n",
       "22                           96334020142245%16 34195436\n",
       "23                         107937922347742%11 333122455\n",
       "24                            60216712531034%4 15448202\n",
       "25                            70221314434536%4 20446250\n",
       "26                            59513415131031%9 15133184\n",
       "27                           54621314618752%11 22063283\n",
       "28                     281210171795 39% 98 130 260 1110\n",
       "29                           449174275 41% 12 31 62 184\n",
       "30                           508186322 39% 16 23 46 200\n",
       "31                           521181340 37% 12 27 54 193\n",
       "32                            318117201 39% 8 11 22 125\n",
       "33                           329137192 46% 13 17 34 150\n",
       "34                           306116190 44% 21 10 20 136\n",
       "35                           381106275 32% 16 11 22 122\n",
       "dtype: object"
      ]
     },
     "execution_count": 35,
     "metadata": {},
     "output_type": "execute_result"
    }
   ],
   "source": [
    "get_text(soup.findAll('div',attrs={'class':'si-tbl-data'}))"
   ]
  },
  {
   "cell_type": "code",
   "execution_count": null,
   "metadata": {},
   "outputs": [],
   "source": []
  }
 ],
 "metadata": {
  "kernelspec": {
   "display_name": "Python 3",
   "language": "python",
   "name": "python3"
  },
  "language_info": {
   "codemirror_mode": {
    "name": "ipython",
    "version": 3
   },
   "file_extension": ".py",
   "mimetype": "text/x-python",
   "name": "python",
   "nbconvert_exporter": "python",
   "pygments_lexer": "ipython3",
   "version": "3.6.5"
  }
 },
 "nbformat": 4,
 "nbformat_minor": 2
}
