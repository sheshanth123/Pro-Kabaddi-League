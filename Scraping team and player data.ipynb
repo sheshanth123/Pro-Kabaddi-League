{
 "cells": [
  {
   "cell_type": "code",
   "execution_count": 1,
   "metadata": {},
   "outputs": [],
   "source": [
    "from bs4 import BeautifulSoup\n",
    "from selenium  import webdriver\n",
    "import time\n",
    "from selenium.common.exceptions import WebDriverException\n",
    "\n",
    "driver = webdriver.Chrome(\"C:/driver/chromedriver.exe\")\n",
    "driver.get('https://www.prokabaddi.com/stats/0-102-total-points-statistics')\n",
    "time.sleep(6)\n"
   ]
  },
  {
   "cell_type": "code",
   "execution_count": 2,
   "metadata": {},
   "outputs": [],
   "source": [
    "element = driver.find_element_by_id('player_Btn')\n",
    "try:\n",
    "    element.click()\n",
    "except WebDriverException:\n",
    "    print(\"Cannot click the player button\")    "
   ]
  },
  {
   "cell_type": "code",
   "execution_count": 3,
   "metadata": {},
   "outputs": [],
   "source": [
    "#Clicks load more button till it no longer can do so\n",
    "element2 = driver.find_element_by_id('load_more')\n",
    "c=0\n",
    "while c==0:\n",
    "    try:\n",
    "        element2.click()\n",
    "    except WebDriverException:\n",
    "        c=1"
   ]
  },
  {
   "cell_type": "code",
   "execution_count": 4,
   "metadata": {},
   "outputs": [],
   "source": [
    "soup = BeautifulSoup(driver.page_source)"
   ]
  },
  {
   "cell_type": "code",
   "execution_count": 10,
   "metadata": {},
   "outputs": [],
   "source": [
    "players=soup.findAll('div',attrs={'class':'sipk-lb-playerName'})\n",
    "\n",
    "player_type=soup.findAll('div',attrs={'class':'sipk-lb-playerprofile'})\n",
    "\n",
    "current_team=soup.findAll('a',attrs={'class':'sipk-lb-detailBlock sipk-lb-team'})\n",
    "\n",
    "matches_played=soup.findAll('div',attrs={'class':'sipk-lb-detailBlock sipk-lb-matchedPlayed'})\n",
    "\n",
    "total_pts=soup.findAll('div',attrs={'class':'sipk-lb-detailBlock sipk-lb-raidPoints'})"
   ]
  },
  {
   "cell_type": "code",
   "execution_count": 11,
   "metadata": {},
   "outputs": [],
   "source": [
    "import numpy as np\n",
    "import pandas as pd"
   ]
  },
  {
   "cell_type": "code",
   "execution_count": 12,
   "metadata": {},
   "outputs": [],
   "source": [
    "p1=[]\n",
    "for i in range(0,len(current_team)):\n",
    "    w=current_team[i].get('href').replace(\"/teams/\",'').split('-')\n",
    "    for j in range(0,len(w)):\n",
    "        if(w[j]=='profile'):\n",
    "            break\n",
    "    p1.append(\" \".join(w[:j]))    \n",
    "current_team=pd.Series(p1)"
   ]
  },
  {
   "cell_type": "code",
   "execution_count": 13,
   "metadata": {},
   "outputs": [
    {
     "data": {
      "text/plain": [
       "0           patna pirates\n",
       "1         tamil thalaivas\n",
       "2    jaipur pink panthers\n",
       "3         tamil thalaivas\n",
       "4         bengaluru bulls\n",
       "dtype: object"
      ]
     },
     "execution_count": 13,
     "metadata": {},
     "output_type": "execute_result"
    }
   ],
   "source": [
    "current_team.head()"
   ]
  },
  {
   "cell_type": "code",
   "execution_count": 14,
   "metadata": {},
   "outputs": [],
   "source": [
    "p1=[]\n",
    "p2=[]\n",
    "p3=[]\n",
    "p4=[]\n",
    "for i in range(0,len(player_type)):\n",
    "    p1.append(matches_played[i].getText().replace('\\n',\"\").replace(\"  \",\"\"))\n",
    "    p2.append(total_pts[i].getText().replace('\\n',\"\").replace(\"  \",\"\"))\n",
    "    p3.append(players[i].getText().replace('\\n',\"\").replace(\"  \",\"\"))\n",
    "    p4.append(player_type[i].getText().replace('\\n',\"\").replace(\"  \",\"\"))\n",
    "matches_played=pd.Series(p1)    \n",
    "total_pts=pd.Series(p2)\n",
    "players=pd.Series(p3)\n",
    "player_type=pd.Series(p4)"
   ]
  },
  {
   "cell_type": "code",
   "execution_count": 15,
   "metadata": {},
   "outputs": [
    {
     "data": {
      "text/plain": [
       "0    101\n",
       "1    116\n",
       "2    118\n",
       "3    115\n",
       "4     88\n",
       "dtype: object"
      ]
     },
     "execution_count": 15,
     "metadata": {},
     "output_type": "execute_result"
    }
   ],
   "source": [
    "matches_played.head()"
   ]
  },
  {
   "cell_type": "code",
   "execution_count": 16,
   "metadata": {},
   "outputs": [
    {
     "data": {
      "text/plain": [
       "0         Raider\n",
       "1         Raider\n",
       "2    All Rounder\n",
       "3         Raider\n",
       "4         Raider\n",
       "dtype: object"
      ]
     },
     "execution_count": 16,
     "metadata": {},
     "output_type": "execute_result"
    }
   ],
   "source": [
    "player_type.head()"
   ]
  },
  {
   "cell_type": "code",
   "execution_count": 17,
   "metadata": {},
   "outputs": [
    {
     "data": {
      "text/plain": [
       "0    1055\n",
       "1     987\n",
       "2     892\n",
       "3     811\n",
       "4     689\n",
       "dtype: object"
      ]
     },
     "execution_count": 17,
     "metadata": {},
     "output_type": "execute_result"
    }
   ],
   "source": [
    "total_pts.head()"
   ]
  },
  {
   "cell_type": "code",
   "execution_count": 18,
   "metadata": {},
   "outputs": [
    {
     "data": {
      "text/plain": [
       "0        Pardeep Narwal\n",
       "1       Rahul Chaudhari\n",
       "2    Deepak Niwas Hooda\n",
       "3           Ajay Thakur\n",
       "4           Rohit Kumar\n",
       "dtype: object"
      ]
     },
     "execution_count": 18,
     "metadata": {},
     "output_type": "execute_result"
    }
   ],
   "source": [
    "players.head()"
   ]
  },
  {
   "cell_type": "code",
   "execution_count": 19,
   "metadata": {},
   "outputs": [],
   "source": [
    "player_stats=pd.DataFrame({'Name':players,'Player_Type':player_type,'Latest_Team':current_team,'Matches_Played':matches_played,'Total_Pts':total_pts})            "
   ]
  },
  {
   "cell_type": "code",
   "execution_count": 20,
   "metadata": {},
   "outputs": [
    {
     "data": {
      "text/plain": [
       "Name              2\n",
       "Player_Type       2\n",
       "Latest_Team       0\n",
       "Matches_Played    2\n",
       "Total_Pts         2\n",
       "dtype: int64"
      ]
     },
     "execution_count": 20,
     "metadata": {},
     "output_type": "execute_result"
    }
   ],
   "source": [
    "player_stats.isnull().sum()"
   ]
  },
  {
   "cell_type": "code",
   "execution_count": 21,
   "metadata": {},
   "outputs": [],
   "source": [
    "player_stats.dropna(inplace=True)"
   ]
  },
  {
   "cell_type": "code",
   "execution_count": 28,
   "metadata": {},
   "outputs": [],
   "source": [
    "import os\n",
    "path=os.getcwd()"
   ]
  },
  {
   "cell_type": "code",
   "execution_count": 29,
   "metadata": {},
   "outputs": [],
   "source": [
    "player_stats.to_csv(path+\"\\\\Pro Kabbadi Hackathon\\\\player_stats.csv\",index=False)"
   ]
  },
  {
   "cell_type": "markdown",
   "metadata": {},
   "source": [
    "#### Reading the team stats - "
   ]
  },
  {
   "cell_type": "code",
   "execution_count": 30,
   "metadata": {},
   "outputs": [],
   "source": [
    "element = driver.find_element_by_id('team_Btn')\n",
    "try:\n",
    "    element.click()\n",
    "except WebDriverException:\n",
    "    print(\"Cannot click the player button\")"
   ]
  },
  {
   "cell_type": "code",
   "execution_count": 31,
   "metadata": {},
   "outputs": [],
   "source": [
    "#Clicks load more button till it no longer can do so\n",
    "element2 = driver.find_element_by_id('load_more')\n",
    "c=0\n",
    "while c==0:\n",
    "    try:\n",
    "        element2.click()\n",
    "    except WebDriverException:\n",
    "        c=1"
   ]
  },
  {
   "cell_type": "code",
   "execution_count": 32,
   "metadata": {},
   "outputs": [],
   "source": [
    "#Create bs4 object\n",
    "soup = BeautifulSoup(driver.page_source)"
   ]
  },
  {
   "cell_type": "code",
   "execution_count": 34,
   "metadata": {},
   "outputs": [],
   "source": [
    "team_name=soup.findAll('a',attrs={'class':'sipk-lb-detailBlock sipk-lb-team'})\n",
    "matches_played=soup.findAll('div',attrs={'class':'sipk-lb-detailBlock sipk-lb-matchedPlayed'})\n",
    "points_scored=soup.findAll('div',attrs={'class':'sipk-lb-detailBlock sipk-lb-raidPoints'})"
   ]
  },
  {
   "cell_type": "code",
   "execution_count": 36,
   "metadata": {},
   "outputs": [],
   "source": [
    "#Extracting team names\n",
    "p1=[]\n",
    "for i in range(0,len(team_name)):\n",
    "    w=team_name[i].get('href').replace(\"/teams/\",'').split('-')\n",
    "    for j in range(0,len(w)):\n",
    "        if(w[j]=='profile'):\n",
    "            break\n",
    "    p1.append(\" \".join(w[:j]))    \n",
    "team_name=pd.Series(p1)    "
   ]
  },
  {
   "cell_type": "code",
   "execution_count": 38,
   "metadata": {},
   "outputs": [],
   "source": [
    "#Extracting the total raid points and matches played\n",
    "p1=[]\n",
    "p2=[]\n",
    "for i in range(0,len(team_name)):\n",
    "    p1.append(matches_played[i].getText().replace('\\n',\"\").replace(\"  \",\"\"))\n",
    "    p2.append(points_scored[i].getText().replace('\\n',\"\").replace(\"  \",\"\"))\n",
    "matches_played=pd.Series(p1)    \n",
    "points_scored=pd.Series(p2)"
   ]
  },
  {
   "cell_type": "code",
   "execution_count": 39,
   "metadata": {},
   "outputs": [],
   "source": [
    "team_stats=pd.DataFrame({'Team_Name':team_name,'Matches_Played':matches_played,'Total_Pts':points_scored})            "
   ]
  },
  {
   "cell_type": "code",
   "execution_count": 40,
   "metadata": {},
   "outputs": [],
   "source": [
    "team_stats.to_csv(path+\"\\\\Pro Kabbadi Hackathon\\\\team_stats.csv\",index=False)"
   ]
  }
 ],
 "metadata": {
  "kernelspec": {
   "display_name": "Python 3",
   "language": "python",
   "name": "python3"
  },
  "language_info": {
   "codemirror_mode": {
    "name": "ipython",
    "version": 3
   },
   "file_extension": ".py",
   "mimetype": "text/x-python",
   "name": "python",
   "nbconvert_exporter": "python",
   "pygments_lexer": "ipython3",
   "version": "3.6.5"
  }
 },
 "nbformat": 4,
 "nbformat_minor": 2
}
